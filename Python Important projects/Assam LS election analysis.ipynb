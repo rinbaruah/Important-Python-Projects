{
 "cells": [
  {
   "cell_type": "code",
   "execution_count": 71,
   "metadata": {},
   "outputs": [],
   "source": [
    "# For data\n",
    "import pandas as pd\n",
    "from pandas import Series,DataFrame\n",
    "import numpy as np\n",
    "\n",
    "# For visualization\n",
    "import matplotlib.pyplot as plt\n",
    "import seaborn as sns\n",
    "sns.set_style('whitegrid')\n",
    "%matplotlib inline\n",
    "from mpl_toolkits.mplot3d import Axes3D\n",
    "from sklearn.preprocessing import StandardScaler\n",
    "\n"
   ]
  },
  {
   "cell_type": "code",
   "execution_count": 60,
   "metadata": {},
   "outputs": [],
   "source": [
    "df=pd.read_csv('2019_Results_Winning_Candidate.csv')"
   ]
  },
  {
   "cell_type": "code",
   "execution_count": 61,
   "metadata": {},
   "outputs": [
    {
     "data": {
      "text/html": [
       "<div>\n",
       "<style scoped>\n",
       "    .dataframe tbody tr th:only-of-type {\n",
       "        vertical-align: middle;\n",
       "    }\n",
       "\n",
       "    .dataframe tbody tr th {\n",
       "        vertical-align: top;\n",
       "    }\n",
       "\n",
       "    .dataframe thead th {\n",
       "        text-align: right;\n",
       "    }\n",
       "</style>\n",
       "<table border=\"1\" class=\"dataframe\">\n",
       "  <thead>\n",
       "    <tr style=\"text-align: right;\">\n",
       "      <th></th>\n",
       "      <th>State</th>\n",
       "      <th>Constituency</th>\n",
       "      <th>Votes</th>\n",
       "      <th>Percentage</th>\n",
       "      <th>Party</th>\n",
       "      <th>Candidate</th>\n",
       "    </tr>\n",
       "  </thead>\n",
       "  <tbody>\n",
       "    <tr>\n",
       "      <td>0</td>\n",
       "      <td>Andaman &amp; Nicobar Islands</td>\n",
       "      <td>Andaman &amp; Nicobar Islands</td>\n",
       "      <td>95308</td>\n",
       "      <td>45.98</td>\n",
       "      <td>Indian National Congress</td>\n",
       "      <td>KULDEEP RAI SHARMA</td>\n",
       "    </tr>\n",
       "    <tr>\n",
       "      <td>1</td>\n",
       "      <td>Andhra Pradesh</td>\n",
       "      <td>Amalapuram</td>\n",
       "      <td>485313</td>\n",
       "      <td>39.43</td>\n",
       "      <td>Yuvajana Sramika Rythu Congress Party</td>\n",
       "      <td>CHINTA ANURADHA</td>\n",
       "    </tr>\n",
       "    <tr>\n",
       "      <td>2</td>\n",
       "      <td>Andhra Pradesh</td>\n",
       "      <td>Anakapalli</td>\n",
       "      <td>586226</td>\n",
       "      <td>47.33</td>\n",
       "      <td>Yuvajana Sramika Rythu Congress Party</td>\n",
       "      <td>Dr.Beesetti Venkata Satyavathi</td>\n",
       "    </tr>\n",
       "    <tr>\n",
       "      <td>3</td>\n",
       "      <td>Andhra Pradesh</td>\n",
       "      <td>Anantapur</td>\n",
       "      <td>695208</td>\n",
       "      <td>51.79</td>\n",
       "      <td>Yuvajana Sramika Rythu Congress Party</td>\n",
       "      <td>TALARI RANGAIAH</td>\n",
       "    </tr>\n",
       "    <tr>\n",
       "      <td>4</td>\n",
       "      <td>Andhra Pradesh</td>\n",
       "      <td>Aruku</td>\n",
       "      <td>562190</td>\n",
       "      <td>52.32</td>\n",
       "      <td>Yuvajana Sramika Rythu Congress Party</td>\n",
       "      <td>GODDETI. MADHAVI</td>\n",
       "    </tr>\n",
       "  </tbody>\n",
       "</table>\n",
       "</div>"
      ],
      "text/plain": [
       "                       State                Constituency   Votes  Percentage  \\\n",
       "0  Andaman & Nicobar Islands  Andaman & Nicobar Islands    95308       45.98   \n",
       "1             Andhra Pradesh                  Amalapuram  485313       39.43   \n",
       "2             Andhra Pradesh                  Anakapalli  586226       47.33   \n",
       "3             Andhra Pradesh                   Anantapur  695208       51.79   \n",
       "4             Andhra Pradesh                       Aruku  562190       52.32   \n",
       "\n",
       "                                   Party                       Candidate  \n",
       "0               Indian National Congress              KULDEEP RAI SHARMA  \n",
       "1  Yuvajana Sramika Rythu Congress Party                 CHINTA ANURADHA  \n",
       "2  Yuvajana Sramika Rythu Congress Party  Dr.Beesetti Venkata Satyavathi  \n",
       "3  Yuvajana Sramika Rythu Congress Party                 TALARI RANGAIAH  \n",
       "4  Yuvajana Sramika Rythu Congress Party                GODDETI. MADHAVI  "
      ]
     },
     "execution_count": 61,
     "metadata": {},
     "output_type": "execute_result"
    }
   ],
   "source": [
    "df.head()"
   ]
  },
  {
   "cell_type": "code",
   "execution_count": 62,
   "metadata": {},
   "outputs": [
    {
     "name": "stdout",
     "output_type": "stream",
     "text": [
      "<class 'pandas.core.frame.DataFrame'>\n",
      "RangeIndex: 542 entries, 0 to 541\n",
      "Data columns (total 6 columns):\n",
      "State           542 non-null object\n",
      "Constituency    542 non-null object\n",
      "Votes           542 non-null int64\n",
      "Percentage      542 non-null float64\n",
      "Party           542 non-null object\n",
      "Candidate       542 non-null object\n",
      "dtypes: float64(1), int64(1), object(4)\n",
      "memory usage: 25.5+ KB\n"
     ]
    }
   ],
   "source": [
    "df.info()"
   ]
  },
  {
   "cell_type": "code",
   "execution_count": 63,
   "metadata": {},
   "outputs": [
    {
     "data": {
      "text/plain": [
       "0     Andaman & Nicobar Islands\n",
       "1                Andhra Pradesh\n",
       "2                Andhra Pradesh\n",
       "3                Andhra Pradesh\n",
       "4                Andhra Pradesh\n",
       "5                Andhra Pradesh\n",
       "6                Andhra Pradesh\n",
       "7                Andhra Pradesh\n",
       "8                Andhra Pradesh\n",
       "9                Andhra Pradesh\n",
       "10               Andhra Pradesh\n",
       "11               Andhra Pradesh\n",
       "12               Andhra Pradesh\n",
       "13               Andhra Pradesh\n",
       "14               Andhra Pradesh\n",
       "15               Andhra Pradesh\n",
       "16               Andhra Pradesh\n",
       "17               Andhra Pradesh\n",
       "18               Andhra Pradesh\n",
       "19               Andhra Pradesh\n",
       "20               Andhra Pradesh\n",
       "21               Andhra Pradesh\n",
       "22               Andhra Pradesh\n",
       "23               Andhra Pradesh\n",
       "24              Andhra Pradesh \n",
       "25              Andhra Pradesh \n",
       "26            Arunachal Pradesh\n",
       "27            Arunachal Pradesh\n",
       "28                        Assam\n",
       "29                        Assam\n",
       "30                        Assam\n",
       "31                        Assam\n",
       "32                        Assam\n",
       "33                        Assam\n",
       "34                        Assam\n",
       "35                        Assam\n",
       "36                        Assam\n",
       "37                        Assam\n",
       "38                        Assam\n",
       "39                        Assam\n",
       "40                        Assam\n",
       "41                        Assam\n",
       "42                        Bihar\n",
       "43                        Bihar\n",
       "44                        Bihar\n",
       "45                        Bihar\n",
       "46                        Bihar\n",
       "47                        Bihar\n",
       "48                        Bihar\n",
       "49                        Bihar\n",
       "Name: State, dtype: object"
      ]
     },
     "execution_count": 63,
     "metadata": {},
     "output_type": "execute_result"
    }
   ],
   "source": [
    "df.State.head(50)"
   ]
  },
  {
   "cell_type": "code",
   "execution_count": 64,
   "metadata": {},
   "outputs": [],
   "source": [
    "df1=df.iloc[28:42,:]"
   ]
  },
  {
   "cell_type": "code",
   "execution_count": 65,
   "metadata": {},
   "outputs": [
    {
     "data": {
      "text/html": [
       "<div>\n",
       "<style scoped>\n",
       "    .dataframe tbody tr th:only-of-type {\n",
       "        vertical-align: middle;\n",
       "    }\n",
       "\n",
       "    .dataframe tbody tr th {\n",
       "        vertical-align: top;\n",
       "    }\n",
       "\n",
       "    .dataframe thead th {\n",
       "        text-align: right;\n",
       "    }\n",
       "</style>\n",
       "<table border=\"1\" class=\"dataframe\">\n",
       "  <thead>\n",
       "    <tr style=\"text-align: right;\">\n",
       "      <th></th>\n",
       "      <th>State</th>\n",
       "      <th>Constituency</th>\n",
       "      <th>Votes</th>\n",
       "      <th>Percentage</th>\n",
       "      <th>Party</th>\n",
       "      <th>Candidate</th>\n",
       "    </tr>\n",
       "  </thead>\n",
       "  <tbody>\n",
       "    <tr>\n",
       "      <td>28</td>\n",
       "      <td>Assam</td>\n",
       "      <td>Autonomous District</td>\n",
       "      <td>381316</td>\n",
       "      <td>61.73</td>\n",
       "      <td>Bharatiya Janata Party</td>\n",
       "      <td>HOREN SING BEY</td>\n",
       "    </tr>\n",
       "    <tr>\n",
       "      <td>29</td>\n",
       "      <td>Assam</td>\n",
       "      <td>Barpeta</td>\n",
       "      <td>645173</td>\n",
       "      <td>44.23</td>\n",
       "      <td>Indian National Congress</td>\n",
       "      <td>Abdul Khaleque</td>\n",
       "    </tr>\n",
       "    <tr>\n",
       "      <td>30</td>\n",
       "      <td>Assam</td>\n",
       "      <td>Dhubri</td>\n",
       "      <td>718764</td>\n",
       "      <td>42.66</td>\n",
       "      <td>All India United Democratic Front</td>\n",
       "      <td>BADRUDDIN AJMAL</td>\n",
       "    </tr>\n",
       "    <tr>\n",
       "      <td>31</td>\n",
       "      <td>Assam</td>\n",
       "      <td>Dibrugarh</td>\n",
       "      <td>659583</td>\n",
       "      <td>64.94</td>\n",
       "      <td>Bharatiya Janata Party</td>\n",
       "      <td>RAMESWAR TELI</td>\n",
       "    </tr>\n",
       "    <tr>\n",
       "      <td>32</td>\n",
       "      <td>Assam</td>\n",
       "      <td>Gauhati</td>\n",
       "      <td>1008936</td>\n",
       "      <td>57.20</td>\n",
       "      <td>Bharatiya Janata Party</td>\n",
       "      <td>QUEEN OJA</td>\n",
       "    </tr>\n",
       "    <tr>\n",
       "      <td>33</td>\n",
       "      <td>Assam</td>\n",
       "      <td>Jorhat</td>\n",
       "      <td>543288</td>\n",
       "      <td>51.35</td>\n",
       "      <td>Bharatiya Janata Party</td>\n",
       "      <td>TOPON KUMAR GOGOI</td>\n",
       "    </tr>\n",
       "    <tr>\n",
       "      <td>34</td>\n",
       "      <td>Assam</td>\n",
       "      <td>Kaliabor</td>\n",
       "      <td>786092</td>\n",
       "      <td>55.18</td>\n",
       "      <td>Indian National Congress</td>\n",
       "      <td>Gaurav Gogoi</td>\n",
       "    </tr>\n",
       "    <tr>\n",
       "      <td>35</td>\n",
       "      <td>Assam</td>\n",
       "      <td>Karimganj</td>\n",
       "      <td>473046</td>\n",
       "      <td>44.62</td>\n",
       "      <td>Bharatiya Janata Party</td>\n",
       "      <td>KRIPANATH MALLAH</td>\n",
       "    </tr>\n",
       "    <tr>\n",
       "      <td>36</td>\n",
       "      <td>Assam</td>\n",
       "      <td>Kokrajhar</td>\n",
       "      <td>484560</td>\n",
       "      <td>32.75</td>\n",
       "      <td>Independent</td>\n",
       "      <td>Naba Kumar Sarania</td>\n",
       "    </tr>\n",
       "    <tr>\n",
       "      <td>37</td>\n",
       "      <td>Assam</td>\n",
       "      <td>Lakhimpur</td>\n",
       "      <td>776406</td>\n",
       "      <td>60.49</td>\n",
       "      <td>Bharatiya Janata Party</td>\n",
       "      <td>PRADAN BARUAH</td>\n",
       "    </tr>\n",
       "    <tr>\n",
       "      <td>38</td>\n",
       "      <td>Assam</td>\n",
       "      <td>Mangaldoi</td>\n",
       "      <td>735469</td>\n",
       "      <td>48.83</td>\n",
       "      <td>Bharatiya Janata Party</td>\n",
       "      <td>DILIP SAIKIA</td>\n",
       "    </tr>\n",
       "    <tr>\n",
       "      <td>39</td>\n",
       "      <td>Assam</td>\n",
       "      <td>Nowgong</td>\n",
       "      <td>739724</td>\n",
       "      <td>49.53</td>\n",
       "      <td>Indian National Congress</td>\n",
       "      <td>Pradyut Bordoloi</td>\n",
       "    </tr>\n",
       "    <tr>\n",
       "      <td>40</td>\n",
       "      <td>Assam</td>\n",
       "      <td>Silchar</td>\n",
       "      <td>499414</td>\n",
       "      <td>52.59</td>\n",
       "      <td>Bharatiya Janata Party</td>\n",
       "      <td>RAJDEEP ROY</td>\n",
       "    </tr>\n",
       "    <tr>\n",
       "      <td>41</td>\n",
       "      <td>Assam</td>\n",
       "      <td>Tezpur</td>\n",
       "      <td>684166</td>\n",
       "      <td>57.48</td>\n",
       "      <td>Bharatiya Janata Party</td>\n",
       "      <td>PALLAB LOCHAN DAS</td>\n",
       "    </tr>\n",
       "  </tbody>\n",
       "</table>\n",
       "</div>"
      ],
      "text/plain": [
       "    State         Constituency    Votes  Percentage  \\\n",
       "28  Assam  Autonomous District   381316       61.73   \n",
       "29  Assam              Barpeta   645173       44.23   \n",
       "30  Assam               Dhubri   718764       42.66   \n",
       "31  Assam            Dibrugarh   659583       64.94   \n",
       "32  Assam              Gauhati  1008936       57.20   \n",
       "33  Assam               Jorhat   543288       51.35   \n",
       "34  Assam             Kaliabor   786092       55.18   \n",
       "35  Assam            Karimganj   473046       44.62   \n",
       "36  Assam            Kokrajhar   484560       32.75   \n",
       "37  Assam            Lakhimpur   776406       60.49   \n",
       "38  Assam            Mangaldoi   735469       48.83   \n",
       "39  Assam              Nowgong   739724       49.53   \n",
       "40  Assam              Silchar   499414       52.59   \n",
       "41  Assam               Tezpur   684166       57.48   \n",
       "\n",
       "                                Party           Candidate  \n",
       "28             Bharatiya Janata Party      HOREN SING BEY  \n",
       "29           Indian National Congress      Abdul Khaleque  \n",
       "30  All India United Democratic Front     BADRUDDIN AJMAL  \n",
       "31             Bharatiya Janata Party       RAMESWAR TELI  \n",
       "32             Bharatiya Janata Party           QUEEN OJA  \n",
       "33             Bharatiya Janata Party   TOPON KUMAR GOGOI  \n",
       "34           Indian National Congress        Gaurav Gogoi  \n",
       "35             Bharatiya Janata Party    KRIPANATH MALLAH  \n",
       "36                        Independent  Naba Kumar Sarania  \n",
       "37             Bharatiya Janata Party       PRADAN BARUAH  \n",
       "38             Bharatiya Janata Party        DILIP SAIKIA  \n",
       "39           Indian National Congress    Pradyut Bordoloi  \n",
       "40             Bharatiya Janata Party         RAJDEEP ROY  \n",
       "41             Bharatiya Janata Party   PALLAB LOCHAN DAS  "
      ]
     },
     "execution_count": 65,
     "metadata": {},
     "output_type": "execute_result"
    }
   ],
   "source": [
    "df1"
   ]
  },
  {
   "cell_type": "code",
   "execution_count": 66,
   "metadata": {},
   "outputs": [
    {
     "name": "stdout",
     "output_type": "stream",
     "text": [
      "<class 'pandas.core.frame.DataFrame'>\n",
      "RangeIndex: 14 entries, 28 to 41\n",
      "Data columns (total 6 columns):\n",
      "State           14 non-null object\n",
      "Constituency    14 non-null object\n",
      "Votes           14 non-null int64\n",
      "Percentage      14 non-null float64\n",
      "Party           14 non-null object\n",
      "Candidate       14 non-null object\n",
      "dtypes: float64(1), int64(1), object(4)\n",
      "memory usage: 804.0+ bytes\n"
     ]
    }
   ],
   "source": [
    "df1.info()"
   ]
  },
  {
   "cell_type": "code",
   "execution_count": 67,
   "metadata": {},
   "outputs": [
    {
     "data": {
      "text/html": [
       "<div>\n",
       "<style scoped>\n",
       "    .dataframe tbody tr th:only-of-type {\n",
       "        vertical-align: middle;\n",
       "    }\n",
       "\n",
       "    .dataframe tbody tr th {\n",
       "        vertical-align: top;\n",
       "    }\n",
       "\n",
       "    .dataframe thead th {\n",
       "        text-align: right;\n",
       "    }\n",
       "</style>\n",
       "<table border=\"1\" class=\"dataframe\">\n",
       "  <thead>\n",
       "    <tr style=\"text-align: right;\">\n",
       "      <th></th>\n",
       "      <th>Votes</th>\n",
       "      <th>Percentage</th>\n",
       "    </tr>\n",
       "  </thead>\n",
       "  <tbody>\n",
       "    <tr>\n",
       "      <td>count</td>\n",
       "      <td>1.400000e+01</td>\n",
       "      <td>14.000000</td>\n",
       "    </tr>\n",
       "    <tr>\n",
       "      <td>mean</td>\n",
       "      <td>6.525669e+05</td>\n",
       "      <td>51.684286</td>\n",
       "    </tr>\n",
       "    <tr>\n",
       "      <td>std</td>\n",
       "      <td>1.639762e+05</td>\n",
       "      <td>8.724588</td>\n",
       "    </tr>\n",
       "    <tr>\n",
       "      <td>min</td>\n",
       "      <td>3.813160e+05</td>\n",
       "      <td>32.750000</td>\n",
       "    </tr>\n",
       "    <tr>\n",
       "      <td>25%</td>\n",
       "      <td>5.103825e+05</td>\n",
       "      <td>45.672500</td>\n",
       "    </tr>\n",
       "    <tr>\n",
       "      <td>50%</td>\n",
       "      <td>6.718745e+05</td>\n",
       "      <td>51.970000</td>\n",
       "    </tr>\n",
       "    <tr>\n",
       "      <td>75%</td>\n",
       "      <td>7.386602e+05</td>\n",
       "      <td>57.410000</td>\n",
       "    </tr>\n",
       "    <tr>\n",
       "      <td>max</td>\n",
       "      <td>1.008936e+06</td>\n",
       "      <td>64.940000</td>\n",
       "    </tr>\n",
       "  </tbody>\n",
       "</table>\n",
       "</div>"
      ],
      "text/plain": [
       "              Votes  Percentage\n",
       "count  1.400000e+01   14.000000\n",
       "mean   6.525669e+05   51.684286\n",
       "std    1.639762e+05    8.724588\n",
       "min    3.813160e+05   32.750000\n",
       "25%    5.103825e+05   45.672500\n",
       "50%    6.718745e+05   51.970000\n",
       "75%    7.386602e+05   57.410000\n",
       "max    1.008936e+06   64.940000"
      ]
     },
     "execution_count": 67,
     "metadata": {},
     "output_type": "execute_result"
    }
   ],
   "source": [
    "df1.describe()"
   ]
  },
  {
   "cell_type": "code",
   "execution_count": 105,
   "metadata": {},
   "outputs": [
    {
     "data": {
      "text/plain": [
       "<seaborn.axisgrid.FacetGrid at 0x1a2dbf9e90>"
      ]
     },
     "execution_count": 105,
     "metadata": {},
     "output_type": "execute_result"
    },
    {
     "data": {
      "image/png": "[encoded data removed]",
      "text/plain": [
       "<Figure size 846.375x360 with 1 Axes>"
      ]
     },
     "metadata": {
      "needs_background": "light"
     },
     "output_type": "display_data"
    }
   ],
   "source": [
    "sns.factorplot('Party','Votes',data=df1,kind='bar',hue='Constituency',\n",
    "               size=5,aspect=2,palette='twilight')"
   ]
  },
  {
   "cell_type": "code",
   "execution_count": 83,
   "metadata": {},
   "outputs": [
    {
     "data": {
      "text/plain": [
       "<seaborn.axisgrid.FacetGrid at 0x1a2aa58510>"
      ]
     },
     "execution_count": 83,
     "metadata": {},
     "output_type": "execute_result"
    },
    {
     "data": {
      "image/png": "[encoded data removed]",
      "text/plain": [
       "<Figure size 720x360 with 1 Axes>"
      ]
     },
     "metadata": {
      "needs_background": "light"
     },
     "output_type": "display_data"
    }
   ],
   "source": [
    "sns.factorplot('Party',data=df1,kind='count',\n",
    "               height=5,aspect=2)\n"
   ]
  },
  {
   "cell_type": "markdown",
   "metadata": {},
   "source": [
    "Above graph shows the number of constituencies won by each party."
   ]
  },
  {
   "cell_type": "code",
   "execution_count": null,
   "metadata": {
    "collapsed": true
   },
   "outputs": [],
   "source": []
  },
  {
   "cell_type": "markdown",
   "metadata": {},
   "source": []
  },
  {
   "cell_type": "code",
   "execution_count": 120,
   "metadata": {},
   "outputs": [],
   "source": [
    "party_df=df1.Party.unique()"
   ]
  },
  {
   "cell_type": "code",
   "execution_count": 136,
   "metadata": {},
   "outputs": [
    {
     "data": {
      "text/plain": [
       "Party\n",
       "All India United Democratic Front     718764\n",
       "Bharatiya Janata Party               5761624\n",
       "Independent                           484560\n",
       "Indian National Congress             2170989\n",
       "Name: Votes, dtype: int64"
      ]
     },
     "execution_count": 136,
     "metadata": {},
     "output_type": "execute_result"
    }
   ],
   "source": [
    "total_votes=df1.groupby('Party')['Votes'].sum()\n",
    "total_votes"
   ]
  },
  {
   "cell_type": "code",
   "execution_count": 142,
   "metadata": {},
   "outputs": [
    {
     "data": {
      "text/plain": [
       "<matplotlib.axes._subplots.AxesSubplot at 0x1a2f8a2d10>"
      ]
     },
     "execution_count": 142,
     "metadata": {},
     "output_type": "execute_result"
    },
    {
     "data": {
      "image/png": "[encoded data removed]",
      "text/plain": [
       "<Figure size 720x864 with 1 Axes>"
      ]
     },
     "metadata": {
      "needs_background": "light"
     },
     "output_type": "display_data"
    }
   ],
   "source": [
    "total_votes.plot(kind='bar',figsize=(10,12),cmap='seismic',title='Share of votes')"
   ]
  },
  {
   "cell_type": "code",
   "execution_count": 139,
   "metadata": {},
   "outputs": [
    {
     "data": {
      "text/plain": [
       "9135937"
      ]
     },
     "execution_count": 139,
     "metadata": {},
     "output_type": "execute_result"
    }
   ],
   "source": [
    "df1.Votes.sum()"
   ]
  },
  {
   "cell_type": "markdown",
   "metadata": {},
   "source": [
    "Total voters in Assam are about 90 Lakhs.\n",
    "BJP garnered about 58 Lakh votes"
   ]
  },
  {
   "cell_type": "code",
   "execution_count": null,
   "metadata": {},
   "outputs": [],
   "source": []
  }
 ],
 "metadata": {
  "kernelspec": {
   "display_name": "Python 3",
   "language": "python",
   "name": "python3"
  },
  "language_info": {
   "codemirror_mode": {
    "name": "ipython",
    "version": 3
   },
   "file_extension": ".py",
   "mimetype": "text/x-python",
   "name": "python",
   "nbconvert_exporter": "python",
   "pygments_lexer": "ipython3",
   "version": "3.7.4"
  }
 },
 "nbformat": 4,
 "nbformat_minor": 2
}
